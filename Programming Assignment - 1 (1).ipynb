{
 "cells": [
  {
   "cell_type": "code",
   "execution_count": 2,
   "metadata": {},
   "outputs": [
    {
     "name": "stdout",
     "output_type": "stream",
     "text": [
      "Hello Python\n"
     ]
    }
   ],
   "source": [
    "#1.\tWrite a Python program to print \"Hello Python\"?\n",
    "\n",
    "print(\"Hello Python\")"
   ]
  },
  {
   "cell_type": "code",
   "execution_count": 3,
   "metadata": {},
   "outputs": [
    {
     "name": "stdout",
     "output_type": "stream",
     "text": [
      "Enter first number5\n",
      "Enter second number5\n",
      "Sum of two numbers is  10\n",
      "Division of two numbers is  1.0\n"
     ]
    }
   ],
   "source": [
    "#2.\tWrite a Python program to do arithmetical operations addition and division.?\n",
    "\n",
    "a=int(input(\"Enter first number\"))\n",
    "b=int(input(\"Enter second number\"))\n",
    "addition=a+b\n",
    "division=a/b\n",
    "print(\"Sum of two numbers is \",addition)\n",
    "print(\"Division of two numbers is \",division)"
   ]
  },
  {
   "cell_type": "code",
   "execution_count": 4,
   "metadata": {},
   "outputs": [
    {
     "name": "stdout",
     "output_type": "stream",
     "text": [
      "Enter height5\n",
      "Enter base4\n",
      "Area of triangle is  10.0\n"
     ]
    }
   ],
   "source": [
    "#3.\tWrite a Python program to find the area of a triangle?\n",
    "height=float(input(\"Enter height\"))\n",
    "base=float(input(\"Enter base\"))\n",
    "area=0.5*(height*base)\n",
    "print(\"Area of triangle is \",area)\n"
   ]
  },
  {
   "cell_type": "code",
   "execution_count": 5,
   "metadata": {},
   "outputs": [
    {
     "name": "stdout",
     "output_type": "stream",
     "text": [
      "Enter variable 14\n",
      "Enter variable 24\n",
      "Before Swapping\n",
      "variable 1= 4\n",
      "variable 2= 4\n",
      "After Swapping two variables\n",
      "variable 1= 4\n",
      "variable 2= 4\n"
     ]
    }
   ],
   "source": [
    "#4.\tWrite a Python program to swap two variables?\n",
    "var1=input(\"Enter variable 1\")\n",
    "var2=input(\"Enter variable 2\")\n",
    "print(\"Before Swapping\")\n",
    "print(\"variable 1=\",var1)\n",
    "print(\"variable 2=\",var2)\n",
    "temp=var1\n",
    "var1=var2\n",
    "var2=temp\n",
    "print(\"After Swapping two variables\")\n",
    "print(\"variable 1=\",var1)\n",
    "print(\"variable 2=\",var2)"
   ]
  },
  {
   "cell_type": "code",
   "execution_count": 6,
   "metadata": {},
   "outputs": [
    {
     "name": "stdout",
     "output_type": "stream",
     "text": [
      "0.5783162690753746\n"
     ]
    }
   ],
   "source": [
    "#5.\tWrite a Python program to generate a random number?\n",
    "import random\n",
    "print(random.random())"
   ]
  },
  {
   "cell_type": "code",
   "execution_count": null,
   "metadata": {},
   "outputs": [],
   "source": []
  }
 ],
 "metadata": {
  "kernelspec": {
   "display_name": "Python 3",
   "language": "python",
   "name": "python3"
  },
  "language_info": {
   "codemirror_mode": {
    "name": "ipython",
    "version": 3
   },
   "file_extension": ".py",
   "mimetype": "text/x-python",
   "name": "python",
   "nbconvert_exporter": "python",
   "pygments_lexer": "ipython3",
   "version": "3.7.3"
  }
 },
 "nbformat": 4,
 "nbformat_minor": 2
}
